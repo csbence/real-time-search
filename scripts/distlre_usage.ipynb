{
 "cells": [
  {
   "cell_type": "markdown",
   "metadata": {},
   "source": [
    "# DistLRE usage\n",
    "This notebook presents a method of using the DistLRE package within the UNH AI group in order to run commands on the remote AI machines."
   ]
  },
  {
   "cell_type": "code",
   "execution_count": 1,
   "metadata": {},
   "outputs": [],
   "source": [
    "import getpass\n",
    "from slack_notification import start_experiment_notification, end_experiment_notification\n",
    "from distlre.distlre import DistLRE, Task, RemoteHost"
   ]
  },
  {
   "cell_type": "markdown",
   "metadata": {},
   "source": [
    "## Set up and logging into the machines\n",
    "By default the default user you are logged in as will be used, we recommend executing the script from a machine already logged into the AI subnet. Collect the user's password and log on to each of the machines. Don't forget to notify the `#experiments` channel on Slack!"
   ]
  },
  {
   "cell_type": "code",
   "execution_count": 2,
   "metadata": {},
   "outputs": [
    {
     "name": "stdin",
     "output_type": "stream",
     "text": [
      "Password to connect to [ai.cs.unh.edu] ············\n"
     ]
    }
   ],
   "source": [
    "HOSTS = ['ai' + str(i) + '.cs.unh.edu' for i in [1, 2, 3, 4, 5, 6, 8, 9, 10, 11, 12, 13, 14, 15]]\n",
    "password = getpass.getpass(\"Password to connect to [ai.cs.unh.edu]\")\n",
    "remote_hosts = [RemoteHost(host, port=22, password=password) for host in HOSTS]\n",
    "executor = DistLRE(remote_hosts=remote_hosts)"
   ]
  },
  {
   "cell_type": "markdown",
   "metadata": {},
   "source": [
    "## Securely running the commands\n",
    "In order to prevent users from clobbering each other's work we all need to adhere to a standard. For simplicity, if there is a `distlre.lock` file located at the shared directory `/home/aifs2/group/exp` we should not execute the experiments. "
   ]
  },
  {
   "cell_type": "code",
   "execution_count": 3,
   "metadata": {},
   "outputs": [],
   "source": [
    "import os.path\n",
    "from datetime import datetime\n",
    "file_lock_path = '/home/aifs2/group/exp/distlre.lock'"
   ]
  },
  {
   "cell_type": "markdown",
   "metadata": {},
   "source": [
    "We can define a function which will always check the `.lock` file, prior to executing the commmands."
   ]
  },
  {
   "cell_type": "code",
   "execution_count": 4,
   "metadata": {},
   "outputs": [],
   "source": [
    "def execute_tasks():\n",
    "    if not os.path.isfile(file_lock_path):\n",
    "        lock_file = open(file_lock_path, 'w')\n",
    "        lock_file.write(getpass.getuser() + '@' + str(datetime.now()))\n",
    "        lock_file.close()\n",
    "        executor.execute_tasks()\n",
    "        executor.wait()\n",
    "        os.remove(file_lock_path)\n",
    "    else:\n",
    "        lock_file = open(file_lock_path, 'r')\n",
    "        contents = lock_file.read().strip().split('@')\n",
    "        user, time = (contents[0], contents[1])\n",
    "        raise Exception(f\"{user} started experiments @ {time}, check #experiments on Slack for updates\")"
   ]
  },
  {
   "cell_type": "markdown",
   "metadata": {},
   "source": [
    "## Checking the idle state\n",
    "We should check that the machines are in a mostly idle state, lets use 98%."
   ]
  },
  {
   "cell_type": "code",
   "execution_count": 5,
   "metadata": {},
   "outputs": [
    {
     "name": "stdout",
     "output_type": "stream",
     "text": [
      "VMcheck@ai1.cs.unh.edu is idle!\n",
      "VMcheck@ai2.cs.unh.edu is idle!\n",
      "VMcheck@ai3.cs.unh.edu is idle!\n",
      "VMcheck@ai4.cs.unh.edu is idle!\n",
      "VMcheck@ai5.cs.unh.edu is idle!\n",
      "VMcheck@ai6.cs.unh.edu is idle!\n",
      "VMcheck@ai8.cs.unh.edu is idle!\n",
      "VMcheck@ai9.cs.unh.edu is idle!\n",
      "VMcheck@ai10.cs.unh.edu is idle!\n",
      "VMcheck@ai11.cs.unh.edu is idle!\n",
      "VMcheck@ai12.cs.unh.edu is idle!\n",
      "VMcheck@ai13.cs.unh.edu is idle!\n",
      "VMcheck@ai14.cs.unh.edu is idle!\n",
      "VMcheck@ai15.cs.unh.edu is idle!\n"
     ]
    }
   ],
   "source": [
    "vmstat_command = \"vmstat 2 2\"\n",
    "commands = [(vmstat_command, machine) for machine in HOSTS]\n",
    "tasks = [Task(command=command, meta=f\"VMcheck@{host}\", time_limit=10, memory_limit=10) for command, host in commands]\n",
    "futures = []\n",
    "for task in tasks:\n",
    "    future = executor.submit(task)\n",
    "    futures.append(future)\n",
    "execute_tasks()\n",
    "for future in futures:\n",
    "    result = future.result()\n",
    "    output = result.output.split('\\n')\n",
    "    last_line = output[-2].split()\n",
    "    idle = last_line[-3]\n",
    "    assert int(idle) >= 98\n",
    "    print(result.meta, \"is idle!\")"
   ]
  },
  {
   "cell_type": "markdown",
   "metadata": {},
   "source": [
    "## Adding commands to the run queue\n",
    "Now that we know the machines are idling, we can next create each of our commands to run. For simplicity we are simply performing an `echo`, these commands will hold the line which you want to run on the machine and place it into the queue."
   ]
  },
  {
   "cell_type": "code",
   "execution_count": 6,
   "metadata": {},
   "outputs": [],
   "source": [
    "remote_hosts = [RemoteHost(host, port=22, password=password) for host in HOSTS]\n",
    "executor = DistLRE(remote_hosts=remote_hosts)\n",
    "command_to_run = \"echo My Super Awesome Experiment \"\n",
    "commands = [f\"{command_to_run}{experiment_number}!!!\" for experiment_number in range(1, 24)]\n",
    "start_experiment_notification(experiment_count=len(commands))"
   ]
  },
  {
   "cell_type": "code",
   "execution_count": 7,
   "metadata": {},
   "outputs": [
    {
     "data": {
      "text/plain": [
       "['echo My Super Awesome Experiment 1!!!',\n",
       " 'echo My Super Awesome Experiment 2!!!',\n",
       " 'echo My Super Awesome Experiment 3!!!',\n",
       " 'echo My Super Awesome Experiment 4!!!',\n",
       " 'echo My Super Awesome Experiment 5!!!',\n",
       " 'echo My Super Awesome Experiment 6!!!',\n",
       " 'echo My Super Awesome Experiment 7!!!',\n",
       " 'echo My Super Awesome Experiment 8!!!',\n",
       " 'echo My Super Awesome Experiment 9!!!',\n",
       " 'echo My Super Awesome Experiment 10!!!',\n",
       " 'echo My Super Awesome Experiment 11!!!',\n",
       " 'echo My Super Awesome Experiment 12!!!',\n",
       " 'echo My Super Awesome Experiment 13!!!',\n",
       " 'echo My Super Awesome Experiment 14!!!',\n",
       " 'echo My Super Awesome Experiment 15!!!',\n",
       " 'echo My Super Awesome Experiment 16!!!',\n",
       " 'echo My Super Awesome Experiment 17!!!',\n",
       " 'echo My Super Awesome Experiment 18!!!',\n",
       " 'echo My Super Awesome Experiment 19!!!',\n",
       " 'echo My Super Awesome Experiment 20!!!',\n",
       " 'echo My Super Awesome Experiment 21!!!',\n",
       " 'echo My Super Awesome Experiment 22!!!',\n",
       " 'echo My Super Awesome Experiment 23!!!']"
      ]
     },
     "execution_count": 7,
     "metadata": {},
     "output_type": "execute_result"
    }
   ],
   "source": [
    "commands"
   ]
  },
  {
   "cell_type": "code",
   "execution_count": 8,
   "metadata": {},
   "outputs": [],
   "source": [
    "tasks = [Task(command=command, meta='META', time_limit=10, memory_limit=10) for command in commands]"
   ]
  },
  {
   "cell_type": "code",
   "execution_count": 9,
   "metadata": {},
   "outputs": [],
   "source": [
    "futures = []\n",
    "for task in tasks:\n",
    "    future = executor.submit(task)\n",
    "    futures.append(future)\n",
    "execute_tasks()"
   ]
  },
  {
   "cell_type": "markdown",
   "metadata": {},
   "source": [
    "## View the results\n",
    "The futures contain the initial `Task` created when adding items to the run queue. As a result, we can view its various stats including:\n",
    "\n",
    "`meta, command, input, output, error, time_limit, memory_limit`\n",
    "\n",
    "The only info from the `echo` command we are interested in here is `output`, so lets diplay it."
   ]
  },
  {
   "cell_type": "code",
   "execution_count": 10,
   "metadata": {},
   "outputs": [
    {
     "name": "stdout",
     "output_type": "stream",
     "text": [
      "My Super Awesome Experiment 1!!!\n",
      "\n",
      "My Super Awesome Experiment 2!!!\n",
      "\n",
      "My Super Awesome Experiment 3!!!\n",
      "\n",
      "My Super Awesome Experiment 4!!!\n",
      "\n",
      "My Super Awesome Experiment 5!!!\n",
      "\n",
      "My Super Awesome Experiment 6!!!\n",
      "\n",
      "My Super Awesome Experiment 7!!!\n",
      "\n",
      "My Super Awesome Experiment 8!!!\n",
      "\n",
      "My Super Awesome Experiment 9!!!\n",
      "\n",
      "My Super Awesome Experiment 10!!!\n",
      "\n",
      "My Super Awesome Experiment 11!!!\n",
      "\n",
      "My Super Awesome Experiment 12!!!\n",
      "\n",
      "My Super Awesome Experiment 13!!!\n",
      "\n",
      "My Super Awesome Experiment 14!!!\n",
      "\n",
      "My Super Awesome Experiment 15!!!\n",
      "\n",
      "My Super Awesome Experiment 16!!!\n",
      "\n",
      "My Super Awesome Experiment 17!!!\n",
      "\n",
      "My Super Awesome Experiment 18!!!\n",
      "\n",
      "My Super Awesome Experiment 19!!!\n",
      "\n",
      "My Super Awesome Experiment 20!!!\n",
      "\n",
      "My Super Awesome Experiment 21!!!\n",
      "\n",
      "My Super Awesome Experiment 22!!!\n",
      "\n",
      "My Super Awesome Experiment 23!!!\n",
      "\n"
     ]
    }
   ],
   "source": [
    "for future in futures:\n",
    "    result = future.result()\n",
    "    print(result.output)\n",
    "end_experiment_notification()"
   ]
  }
 ],
 "metadata": {
  "kernelspec": {
   "display_name": "Python 3",
   "language": "python",
   "name": "python3"
  },
  "language_info": {
   "codemirror_mode": {
    "name": "ipython",
    "version": 3
   },
   "file_extension": ".py",
   "mimetype": "text/x-python",
   "name": "python",
   "nbconvert_exporter": "python",
   "pygments_lexer": "ipython3",
   "version": "3.6.6"
  }
 },
 "nbformat": 4,
 "nbformat_minor": 2
}
