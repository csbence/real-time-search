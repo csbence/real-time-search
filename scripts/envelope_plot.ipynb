{
 "cells": [
  {
   "cell_type": "code",
   "execution_count": null,
   "metadata": {},
   "outputs": [],
   "source": [
    "import pandas as pd\n",
    "import numpy as np\n",
    "import scipy as sp\n",
    "import plotly.offline as plotly\n",
    "import plotly.figure_factory as ff\n",
    "import plotly.graph_objs as go\n",
    "import cufflinks as cf\n",
    "import envelope_plot as ep\n",
    "from ipywidgets import interact\n",
    "import ipywidgets as widgets\n",
    "import os\n",
    "\n",
    "cf.go_offline()\n",
    "plotly.offline.init_notebook_mode(connected=True)\n",
    "\n",
    "def extract_keys(my_dict, key_list):\n",
    "    return {k: my_dict[k] for k in key_list}\n",
    "    "
   ]
  },
  {
   "cell_type": "markdown",
   "metadata": {
    "pycharm": {
     "name": "#%% md\n"
    }
   },
   "source": [
    "# Prepare data\n",
    "\n",
    "Every domain instance requires the optimal path length which is\n",
    "read in via a json results file in the same format as the experiment results.\n",
    "\n",
    "Specify the paths to the results yielding information on the optimal plans below.\n",
    "Then specify paths to the experiment results file. A dataframe will be constructed\n",
    "using this information\n"
   ]
  },
  {
   "cell_type": "code",
   "execution_count": null,
   "metadata": {
    "pycharm": {
     "name": "#%%\n"
    }
   },
   "outputs": [],
   "source": [
    "optimal_plans = ['../results/astar_minima1500.json','../results/astar_orz100d.json',\n",
    "                 '../results/astar_korf4real.json']\n",
    "experiments = ['../results/results_bi.json', '../results/results_tba.json']\n",
    "\n",
    "experiment_data = ep.analyze_results(optimal_plans, experiments)"
   ]
  },
  {
   "cell_type": "markdown",
   "metadata": {
    "pycharm": {
     "name": "#%% md\n"
    }
   },
   "source": [
    "# Plot data\n",
    "\n",
    "Please use the drop down menus to select the domain instance and the plot type"
   ]
  },
  {
   "cell_type": "code",
   "execution_count": null,
   "metadata": {
    "pycharm": {
     "name": "#%%\n"
    },
    "scrolled": false
   },
   "outputs": [],
   "source": [
    "domains = {'Minima 1500x1500':'minima1500', 'Dragon Age: Origins':'orz100d', 'Sliding Tile - Korf 4x4','tiles.korf/4/real'}\n",
    "# domains = {'Dragon Age: Origins':'orz100d'}\n",
    "master_config = {'weight': 'W', 'lookaheadStrategy': 'Look', 'envelopeSearchStrategy': 'Env-L'}\n",
    "\n",
    "just_weight = extract_keys(master_config, ['weight'])\n",
    "wLookaheadConfig = extract_keys(master_config, ['weight', 'lookaheadStrategy'])\n",
    "biEsConfig = extract_keys(master_config, ['weight', 'lookaheadStrategy', 'envelopeSearchStrategy'])\n",
    "\n",
    "within_opt_data = ep.prepare_for_within_opt_plot(experiment_data,domains.values(),{\n",
    "    'LSS_LRTA_STAR':{},\n",
    "    'BI_ES': biEsConfig,\n",
    "    'BACK_ES': just_weight,\n",
    "    'TIME_BOUNDED_A_STAR': wLookaheadConfig\n",
    "})\n",
    "\n",
    "@interact(\n",
    "    domain=domains,\n",
    "    display_type=['Plot','Table'],\n",
    "    algorithms=widgets.SelectMultiple(\n",
    "        options={\n",
    "            'TBA*':'TIME_BOUNDED_A_STAR',\n",
    "            'LSS-LRTA*':'LSS_LRTA_STAR',\n",
    "            'Bidirectional Envelope': 'BI_ES',\n",
    "            'Backward Envelope': 'BACK_ES'\n",
    "        },\n",
    "        description='Algorithms (Select multiple)',\n",
    "        value=[]\n",
    "    ),\n",
    "    weights=widgets.SelectMultiple(\n",
    "        options=list(filter(lambda x: x==x, experiment_data.weight.unique())), # remove NaN\n",
    "        description='Weights (Select multiple, or none for all)',\n",
    "        value=[]\n",
    "    )\n",
    ")\n",
    "def plot_within_opt(domain, display_type, algorithms, weights):\n",
    "    data_copy = within_opt_data[domain].copy() # for safety - don't modify original\n",
    "    \n",
    "    if len(algorithms) == 0:\n",
    "        return\n",
    "    \n",
    "    trimmed_df = pd.DataFrame({}, columns=data_copy.columns)\n",
    "    \n",
    "    for alg in algorithms:\n",
    "        alg_data = data_copy[data_copy.algCode == alg]\n",
    "        # filter by weight if weight is used as a parameter\n",
    "        if len(weights) > 0:\n",
    "            alg_data = alg_data[alg_data.weight.isnull() | alg_data.weight.isin(weights)]\n",
    "        \n",
    "        trimmed_df = trimmed_df.append(alg_data)\n",
    "        \n",
    "    if display_type == 'Table':\n",
    "        table = ff.create_table(trimmed_df)\n",
    "        table.layout.update({'title':domain})\n",
    "        plotly.iplot(table, filename='jupyter-table')\n",
    "    elif display_type == 'Plot':\n",
    "        plot = trimmed_df.iplot(asFigure=True, kind='scatter', mode='lines+markers',\n",
    "                                x='actionDuration', y='withinOpt', logx=True,\n",
    "                                xTitle='actionDuration', yTitle='withinOpt',\n",
    "                                categories='algorithmName',\n",
    "                                colorscale='spectral', title=domain)\n",
    "        plotly.iplot(plot, filename='jupyter-plot')\n",
    "        \n",
    "\n",
    "# table1 = ff.create_table(within_opt_data['minima1500'])\n",
    "# plotly.iplot(table1, filename='jupyter-test1')\n",
    "\n",
    "# table2 = ff.create_table(within_opt_data['orz100d'])\n",
    "# plotly.iplot(table2, filename='jupyter-test2')"
   ]
  }
 ],
 "metadata": {
  "kernelspec": {
   "display_name": "Python 3",
   "language": "python",
   "name": "python3"
  },
  "language_info": {
   "codemirror_mode": {
    "name": "ipython",
    "version": 3
   },
   "file_extension": ".py",
   "mimetype": "text/x-python",
   "name": "python",
   "nbconvert_exporter": "python",
   "pygments_lexer": "ipython3",
   "version": "3.6.7"
  },
  "pycharm": {
   "stem_cell": {
    "cell_type": "raw",
    "metadata": {
     "collapsed": false
    },
    "source": []
   }
  }
 },
 "nbformat": 4,
 "nbformat_minor": 2
}
